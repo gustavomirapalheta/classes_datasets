{
 "cells": [
  {
   "cell_type": "code",
   "execution_count": 2,
   "metadata": {
    "id": "5WS1UV0nokqD"
   },
   "outputs": [
    {
     "name": "stdout",
     "output_type": "stream",
     "text": [
      "True\n"
     ]
    }
   ],
   "source": [
    "print(5 > 4)"
   ]
  },
  {
   "cell_type": "code",
   "execution_count": 8,
   "metadata": {
    "id": "lxFCq5wSoptM"
   },
   "outputs": [
    {
     "name": "stdout",
     "output_type": "stream",
     "text": [
      "False\n"
     ]
    }
   ],
   "source": [
    "print (len(\"abobrinha\") > len(\"batatinha\"))"
   ]
  },
  {
   "cell_type": "code",
   "execution_count": 14,
   "metadata": {
    "id": "-CWHdC-Fov9n"
   },
   "outputs": [
    {
     "name": "stdin",
     "output_type": "stream",
     "text": [
      "Digite um número qualquer: 10\n",
      "Agora, digite outro número qualquer: 20\n"
     ]
    },
    {
     "name": "stdout",
     "output_type": "stream",
     "text": [
      "False\n",
      "True\n",
      "False\n",
      "True\n"
     ]
    }
   ],
   "source": [
    "x = int(input(\"Digite um número inteiro qualquer:\"))\n",
    "y = int(input(\"Agora, digite outro número inteiro qualquer:\"))\n",
    "print(x >= y)  # testa se é maior ou igual\n",
    "print(x <= y)  # testa se é menor ou igual\n",
    "print(x == y)  # testa se é igual\n",
    "print(x != y)  # testa se é diferente\n"
   ]
  },
  {
   "cell_type": "code",
   "execution_count": 16,
   "metadata": {
    "id": "s9cPQlJCggxH"
   },
   "outputs": [
    {
     "name": "stdout",
     "output_type": "stream",
     "text": [
      "False\n"
     ]
    }
   ],
   "source": [
    "resultado =    1 >= 2  # resultado é uma variável lógica (True ou False)\n",
    "print(resultado)"
   ]
  },
  {
   "cell_type": "code",
   "execution_count": 18,
   "metadata": {
    "id": "dwEfSvenhFvz"
   },
   "outputs": [
    {
     "name": "stdout",
     "output_type": "stream",
     "text": [
      "False True False True False\n"
     ]
    }
   ],
   "source": [
    "r1 =  1>=2                 # r1, r2, r3, r4 e r5 são variávies lógicas (True ou False)\n",
    "r2 =  1>=0\n",
    "r3 = r1 and r2\n",
    "r4 = r1 or r2\n",
    "r5 = not r4\n",
    "print(r1, r2, r3, r4, r5)\n"
   ]
  },
  {
   "cell_type": "code",
   "execution_count": 22,
   "metadata": {
    "colab": {
     "base_uri": "https://localhost:8080/"
    },
    "id": "4gj5Yk2q7qcU",
    "outputId": "b9c2acfe-c518-420c-cb5c-e3939f178cb9"
   },
   "outputs": [
    {
     "name": "stdin",
     "output_type": "stream",
     "text": [
      "Digite um número inteiro:  20\n",
      "Digite outro número inteiro:  100\n"
     ]
    },
    {
     "name": "stdout",
     "output_type": "stream",
     "text": [
      "É isso aí!\n"
     ]
    }
   ],
   "source": [
    "x = int(input(\"Digite um número inteiro: \"))\n",
    "y = int(input(\"Digite outro número inteiro: \"))\n",
    "if (x > 10) and (y > 10):\n",
    "    print(\"É isso aí!\")\n",
    "else:\n",
    "    print(\"coca-cola\")\n"
   ]
  }
 ],
 "metadata": {
  "colab": {
   "provenance": []
  },
  "kernelspec": {
   "display_name": "Python [conda env:base] *",
   "language": "python",
   "name": "conda-base-py"
  },
  "language_info": {
   "codemirror_mode": {
    "name": "ipython",
    "version": 3
   },
   "file_extension": ".py",
   "mimetype": "text/x-python",
   "name": "python",
   "nbconvert_exporter": "python",
   "pygments_lexer": "ipython3",
   "version": "3.12.7"
  }
 },
 "nbformat": 4,
 "nbformat_minor": 4
}
