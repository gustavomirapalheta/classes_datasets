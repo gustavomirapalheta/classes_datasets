{
 "cells": [
  {
   "cell_type": "markdown",
   "metadata": {
    "id": "S5UOZSNv-RrV"
   },
   "source": [
    "# Expressões e variáveis"
   ]
  },
  {
   "cell_type": "markdown",
   "metadata": {
    "id": "Pddi9bgK_SFn"
   },
   "source": [
    "**Operadores aritméticos**"
   ]
  },
  {
   "cell_type": "code",
   "execution_count": null,
   "metadata": {
    "id": "GBGth-s7-QTA"
   },
   "outputs": [],
   "source": [
    "# adição\n",
    "2+3"
   ]
  },
  {
   "cell_type": "code",
   "execution_count": null,
   "metadata": {
    "id": "3b5UKII1-ihJ"
   },
   "outputs": [],
   "source": [
    "# subtração\n",
    "2-3"
   ]
  },
  {
   "cell_type": "code",
   "execution_count": null,
   "metadata": {
    "id": "plAzkgyV-krY"
   },
   "outputs": [],
   "source": [
    "# multiplicação\n",
    "3*5"
   ]
  },
  {
   "cell_type": "code",
   "execution_count": null,
   "metadata": {
    "id": "cnh5MmXC-pov"
   },
   "outputs": [],
   "source": [
    "# divisão\n",
    "22/8"
   ]
  },
  {
   "cell_type": "code",
   "execution_count": null,
   "metadata": {
    "id": "O8ndvSWV-szv"
   },
   "outputs": [],
   "source": [
    "# divisão inteira\n",
    "22//8"
   ]
  },
  {
   "cell_type": "code",
   "execution_count": null,
   "metadata": {
    "id": "VtnufuvP-xQf"
   },
   "outputs": [],
   "source": [
    "# resto da divisão inteira\n",
    "22%8"
   ]
  },
  {
   "cell_type": "code",
   "execution_count": null,
   "metadata": {
    "id": "oL7Reis8-y_G"
   },
   "outputs": [],
   "source": [
    "# exponenciação\n",
    "2**3"
   ]
  },
  {
   "cell_type": "code",
   "execution_count": null,
   "metadata": {
    "id": "O4jXh0k0_PyP"
   },
   "outputs": [],
   "source": [
    "# Como o Python calculará a seguinte expressão?\n",
    "1+4*2**3/0.5"
   ]
  },
  {
   "cell_type": "code",
   "execution_count": null,
   "metadata": {
    "id": "45v7puQS_pjZ"
   },
   "outputs": [],
   "source": [
    "# Como o Python calculará a seguinte expressão?\n",
    "(1+4)*2**(3/0.5)"
   ]
  },
  {
   "cell_type": "markdown",
   "metadata": {
    "id": "7mVBB_Xz_3ly"
   },
   "source": [
    "**Operadores com strings**"
   ]
  },
  {
   "cell_type": "code",
   "execution_count": null,
   "metadata": {
    "id": "VStmcsBP_696"
   },
   "outputs": [],
   "source": [
    "'senha' + 'batatinha'"
   ]
  },
  {
   "cell_type": "code",
   "execution_count": null,
   "metadata": {
    "id": "0llhykDYAEeY"
   },
   "outputs": [],
   "source": [
    "'senha' + ' ' + 'batatinha'"
   ]
  },
  {
   "cell_type": "code",
   "execution_count": null,
   "metadata": {
    "id": "DmG6UpPjALen"
   },
   "outputs": [],
   "source": [
    "'senha' + '' + 'batatinha'"
   ]
  },
  {
   "cell_type": "code",
   "execution_count": null,
   "metadata": {
    "id": "b8AwBDjkAR43"
   },
   "outputs": [],
   "source": [
    "'senha'+11"
   ]
  },
  {
   "cell_type": "code",
   "execution_count": null,
   "metadata": {
    "id": "PcQ3XyaWAZuH"
   },
   "outputs": [],
   "source": [
    "'senha'+'11'"
   ]
  },
  {
   "cell_type": "code",
   "execution_count": null,
   "metadata": {
    "id": "KFUQ-DujAgGk"
   },
   "outputs": [],
   "source": [
    "'senha'*5"
   ]
  },
  {
   "cell_type": "code",
   "execution_count": null,
   "metadata": {
    "id": "WI8LL0mYAkz0"
   },
   "outputs": [],
   "source": [
    "'senha'*5.0"
   ]
  },
  {
   "cell_type": "markdown",
   "metadata": {
    "id": "Q16jenfCAp18"
   },
   "source": [
    "**Variáveis: inteira, flutuante, string**"
   ]
  },
  {
   "cell_type": "code",
   "execution_count": null,
   "metadata": {
    "id": "uLK9T8mPAxGX"
   },
   "outputs": [],
   "source": [
    "x=40\n",
    "x"
   ]
  },
  {
   "cell_type": "code",
   "execution_count": null,
   "metadata": {
    "id": "zevJMJdnA7uu"
   },
   "outputs": [],
   "source": [
    "ovo=40\n",
    "ovo=50\n",
    "ovo+ovo"
   ]
  },
  {
   "cell_type": "code",
   "execution_count": null,
   "metadata": {
    "id": "EM4f3-iBBE9G"
   },
   "outputs": [],
   "source": [
    "ovo=40\n",
    "oVo=50\n",
    "ovo+oVo\n"
   ]
  },
  {
   "cell_type": "code",
   "execution_count": null,
   "metadata": {
    "id": "rCJYRhEPBS_Q"
   },
   "outputs": [],
   "source": [
    "X=50.0\n",
    "X = X + 2\n",
    "X"
   ]
  },
  {
   "cell_type": "code",
   "execution_count": null,
   "metadata": {
    "id": "4wRfckhYBjoI"
   },
   "outputs": [],
   "source": [
    "X=50.0\n",
    "X=X+2"
   ]
  },
  {
   "cell_type": "code",
   "execution_count": null,
   "metadata": {
    "id": "d2AOVm1BB9gd"
   },
   "outputs": [],
   "source": [
    "X2=50\n",
    "2X=40\n",
    "X=X2+2X"
   ]
  },
  {
   "cell_type": "code",
   "execution_count": null,
   "metadata": {
    "id": "xyqzDv8dK0B_"
   },
   "outputs": [],
   "source": [
    "X = \"batatinha\"\n",
    "X = X + \" \" + X\n",
    "X"
   ]
  },
  {
   "cell_type": "code",
   "execution_count": null,
   "metadata": {
    "id": "OgijRT6YJd7G"
   },
   "outputs": [],
   "source": [
    "x = 2\n",
    "print(\"variável x é do tipo: \", type(x))\n",
    "y = x/2\n",
    "print(y)\n",
    "print(\"variável y é do tipo: \", type(y))"
   ]
  },
  {
   "cell_type": "markdown",
   "metadata": {
    "id": "wLJAOL4YCRic"
   },
   "source": [
    "**Operadores de transformação de variáveis:**\n",
    "\n",
    "*   **str() transforma inteiro ou flutuante em string**\n",
    "*   **int() tranforma string ou flutuante em inteiro**\n",
    "*  **float() transforma string ou inteiro em flutuante**"
   ]
  },
  {
   "cell_type": "code",
   "execution_count": null,
   "metadata": {
    "id": "h-jheWaeL-Ck"
   },
   "outputs": [],
   "source": [
    "str(0)"
   ]
  },
  {
   "cell_type": "code",
   "execution_count": null,
   "metadata": {
    "id": "UfNWTs-6MBca"
   },
   "outputs": [],
   "source": [
    "str(-3.14)"
   ]
  },
  {
   "cell_type": "code",
   "execution_count": null,
   "metadata": {
    "id": "IDhR4Yb2MNox"
   },
   "outputs": [],
   "source": [
    "str(-3,14)\n"
   ]
  },
  {
   "cell_type": "code",
   "execution_count": null,
   "metadata": {
    "id": "-eMN1AFEMVnx"
   },
   "outputs": [],
   "source": [
    "int('42')"
   ]
  },
  {
   "cell_type": "code",
   "execution_count": null,
   "metadata": {
    "id": "X9my3jn6MbTz"
   },
   "outputs": [],
   "source": [
    "int(1.25)"
   ]
  },
  {
   "cell_type": "code",
   "execution_count": null,
   "metadata": {
    "id": "laE3IOCMMjMD"
   },
   "outputs": [],
   "source": [
    "int(1.99)"
   ]
  },
  {
   "cell_type": "code",
   "execution_count": null,
   "metadata": {
    "id": "3YUJLNDNMni5"
   },
   "outputs": [],
   "source": [
    "float('3.14')"
   ]
  },
  {
   "cell_type": "code",
   "execution_count": null,
   "metadata": {
    "id": "GnMJMa2eMxgw"
   },
   "outputs": [],
   "source": [
    "float(10)"
   ]
  },
  {
   "cell_type": "code",
   "execution_count": null,
   "metadata": {
    "id": "v7_u3Q8bM1to"
   },
   "outputs": [],
   "source": [
    "float(10.0)"
   ]
  },
  {
   "cell_type": "code",
   "execution_count": null,
   "metadata": {
    "id": "hxgTk_SCNOeE"
   },
   "outputs": [],
   "source": [
    "X = '1000'\n",
    "X = int(X)\n",
    "X = X + 1\n",
    "print(X, X+1, 'uva')"
   ]
  },
  {
   "cell_type": "markdown",
   "metadata": {
    "id": "UdDV9NU2ONEd"
   },
   "source": [
    "**Equivalências e variáveis lógicas (booleanas)**"
   ]
  },
  {
   "cell_type": "code",
   "execution_count": null,
   "metadata": {
    "id": "2NCvm0QUNzFs"
   },
   "outputs": [],
   "source": [
    "42==42"
   ]
  },
  {
   "cell_type": "code",
   "execution_count": null,
   "metadata": {
    "id": "FNDkNdlIN61R"
   },
   "outputs": [],
   "source": [
    "42==42.0"
   ]
  },
  {
   "cell_type": "code",
   "execution_count": null,
   "metadata": {
    "id": "KNYQ-OJeN95h"
   },
   "outputs": [],
   "source": [
    "42.0 == 0042.000"
   ]
  },
  {
   "cell_type": "code",
   "execution_count": null,
   "metadata": {
    "id": "tEKNUG7oOBCj"
   },
   "outputs": [],
   "source": [
    "42 =='42'"
   ]
  },
  {
   "cell_type": "code",
   "execution_count": null,
   "metadata": {
    "id": "YtmQLWk6M3Z7"
   },
   "outputs": [],
   "source": [
    "X = 42==42\n",
    "X"
   ]
  },
  {
   "cell_type": "code",
   "execution_count": null,
   "metadata": {
    "id": "_3uO45N2M_hE"
   },
   "outputs": [],
   "source": [
    "X = 42 > 42\n",
    "X"
   ]
  },
  {
   "cell_type": "code",
   "execution_count": null,
   "metadata": {
    "id": "S155agJmOnRk"
   },
   "outputs": [],
   "source": [
    "X = 42 == 42 == 43\n",
    "X"
   ]
  },
  {
   "cell_type": "code",
   "execution_count": null,
   "metadata": {
    "id": "iDr8VLzCNdEr"
   },
   "outputs": [],
   "source": [
    "X = 42 >= 42\n",
    "if X:\n",
    "  print('correto')"
   ]
  },
  {
   "cell_type": "code",
   "execution_count": null,
   "metadata": {
    "id": "Bdb7vM-PNrgX"
   },
   "outputs": [],
   "source": [
    "if 42 >= 42:\n",
    "  print('correto')\n"
   ]
  }
 ],
 "metadata": {
  "colab": {
   "provenance": []
  },
  "kernelspec": {
   "display_name": "Python [conda env:base] *",
   "language": "python",
   "name": "conda-base-py"
  },
  "language_info": {
   "codemirror_mode": {
    "name": "ipython",
    "version": 3
   },
   "file_extension": ".py",
   "mimetype": "text/x-python",
   "name": "python",
   "nbconvert_exporter": "python",
   "pygments_lexer": "ipython3",
   "version": "3.12.7"
  }
 },
 "nbformat": 4,
 "nbformat_minor": 4
}
