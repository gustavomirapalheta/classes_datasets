{
 "cells": [
  {
   "cell_type": "code",
   "execution_count": null,
   "metadata": {
    "id": "AJwEIdtAL4pD"
   },
   "outputs": [],
   "source": [
    "conta = input(\"Digite o valor da conta sem os 10%: \")\n",
    "# Note que o resultado armazenado em conta será uma string.\n",
    "# Você pode verificar executando o comando type(conta) \n",
    "# Agora, transformamos a string em float:\n",
    "conta = float(conta)\n",
    "n = input(\"Digite o número de pessoas na mesa: \")\n",
    "# Mesmo raciocínio aqui, mas como o número de pessoas é inteiro, podemos fazer a transformação de string para int\n",
    "n = int(n)\n",
    "motorista = conta/n\n",
    "demais = (conta * 1.1 - motorista) / (n-1)\n",
    "print(\"O motorista pagará\", motorista)\n",
    "print(\"Os demais pagarão\", demais)"
   ]
  },
  {
   "cell_type": "code",
   "execution_count": null,
   "metadata": {
    "id": "P5ZLcHGeDRPT"
   },
   "outputs": [],
   "source": [
    "# Uma alternativa mais econômica:\n",
    "conta = float(input(\"Digite o valor da conta sem os 10%: \"))\n",
    "n = int(input(\"Digite o número de pessoas na mesa: \"))\n",
    "motorista = conta/n\n",
    "demais = (conta * 1.1 - motorista) / (n-1)\n",
    "print(\"O motorista pagará\", round(motorista, 2))                      # round(x, 2) é uma função que arredonda x para duas casas decimais!!\n",
    "print(\"Os demais pagarão\", round( demais, 2))\n"
   ]
  }
 ],
 "metadata": {
  "colab": {
   "provenance": []
  },
  "kernelspec": {
   "display_name": "Python [conda env:base] *",
   "language": "python",
   "name": "conda-base-py"
  },
  "language_info": {
   "codemirror_mode": {
    "name": "ipython",
    "version": 3
   },
   "file_extension": ".py",
   "mimetype": "text/x-python",
   "name": "python",
   "nbconvert_exporter": "python",
   "pygments_lexer": "ipython3",
   "version": "3.12.7"
  }
 },
 "nbformat": 4,
 "nbformat_minor": 4
}
