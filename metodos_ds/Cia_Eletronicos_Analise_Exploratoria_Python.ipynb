{
 "cells": [
  {
   "cell_type": "markdown",
   "id": "ded15241",
   "metadata": {},
   "source": [
    "# Métodos e Ferramentas de Data Science\n",
    "## Aula 3: Análise Exploratória de Dados (Introdução às bibliotecas pandas e matplotlib.pyplot)\n",
    "### Exemplo: Cia Eletrônicos"
   ]
  },
  {
   "cell_type": "markdown",
   "id": "4dae7fe6",
   "metadata": {},
   "source": [
    "## Carregando bibliotecas necessárias\n",
    "Usaremos os pacotes `pandas` para manipulação de dados. Para visualizações, usaremos `matplotlib` (pyplot) e `seaborn`."
   ]
  },
  {
   "cell_type": "code",
   "execution_count": null,
   "id": "7eebcaf9",
   "metadata": {},
   "outputs": [],
   "source": [
    "import pandas as pd    \n",
    "# importa (deixa disponível para uso) a biblioteca pandas, usada para manipulação e análise de dados.\n",
    "# O apelido pd é só uma convenção para facilitar o uso (em vez de escrever pandas.DataFrame(), poderemos escrever pd.DataFrame()).\n",
    "# Essa biblioteca contém diversas funções úteis, por exemplo para lermos arquivos em Excel, CSV etc. (pd.read_excel, pd.read_csv), \n",
    "# manipular tabelas (DataFrames), agrupar, filtrar, transformar dados, calcular estatísticas como medidas de posição e de dispersão etc.\n",
    "\n",
    "import matplotlib.pyplot as plt    \n",
    "# essa linha importa a biblioteca matplotlib, mais especificamente o módulo pyplot, usado para fazer gráficos.\n",
    "# Assim como chamamos pandas de pd, aqui estamos 'apelidando' o módulo de plt. Nele, há funções que nos permitem criar diversos tipos de gráficos.\n",
    "\n",
    "import seaborn as sns    \n",
    "# Essa biblioteca estende o matplotlib com gráficos estatísticos mais bonitos e fáceis de usar.\n",
    "# Permite criar boxplots, violinplots, heatmaps, gráficos de dispersão com regressão, etc.\n",
    "\n",
    "%matplotlib inline    \n",
    "# magic command. Serve para mostrar os gráficos diretamente dentro do notebook, logo abaixo da célula de código. \n",
    "# Sem essa linha, os gráficos podem não aparecer automaticamente ou abrir em janelas separadas."
   ]
  },
  {
   "cell_type": "markdown",
   "id": "3fac4c51",
   "metadata": {},
   "source": [
    "## Importar a base de dados\n",
    "Aqui, vamos carregar a planilha Excel `Cia_Eletronicos.xlsx`."
   ]
  },
  {
   "cell_type": "code",
   "execution_count": null,
   "id": "25236c5e",
   "metadata": {},
   "outputs": [],
   "source": [
    "dados = pd.read_excel('Cia_Eletronicos.xlsx', sheet_name='Dados')\n",
    "# pd.read_excel() chama a função read_excel da biblioteca pd (pandas);\n",
    "# precisamos oferecer à função o caminho em que se encontra a planilha em Excel para ser importada;\n",
    "# a parte sheet_name='Dados' instrui a função a ler a aba 'Dados' do arquivo em questão (que pode ter várias abas);\n",
    "# o conteúdo é armazenado como um DataFrame do pandas (tabela em Python) no objeto chamado dados. \n",
    "\n",
    "dados.head()\n",
    "# Exibe as primeiras 5 linhas do DataFrame dados.\n",
    "# Se não usarmos o sufixo .head(), todo o objeto tentará ser carregado e isso pode ser um problema se a base for grande (a tabela pode ser\n",
    "# exibida de maneira truncada, inclusive, se for muito grande). \n",
    "# Uma alternativa é configurar o pandas para mostrar mais linhas e colunas:\n",
    "pd.set_option('display.max_rows', 200)     # mostra até 200 linhas\n",
    "# pd.set_option('display.max_columns', None) # mostra todas as colunas\n",
    "dados\n",
    "\n",
    "# Podemos também fazer a visualização por pedaços:\n",
    "# dados[0:100]    # linhas de 0 a 99\n",
    "# dados[-10:]     # últimas 10 linhas"
   ]
  },
  {
   "cell_type": "markdown",
   "id": "813db60b",
   "metadata": {},
   "source": [
    "## Explorando a estrutura dos dados"
   ]
  },
  {
   "cell_type": "code",
   "execution_count": null,
   "id": "6b608899",
   "metadata": {},
   "outputs": [],
   "source": [
    "dados.info()    # Exibe um resumo da estrutura do DataFrame (número de linhas e colunas, valores não nulos, nomes das colunas, uso de memória...)\n",
    "# É muito interessante para:\n",
    "# - verificarmos se há valores ausentes (nulls) em alguma coluna; \n",
    "# - checarmos os tipos de dados (importante antes de aplicar funções estatísticas ou gráficos); e\n",
    "# - termos uma visão geral rápida da base.\n",
    "\n",
    "# Interpretação:\n",
    "# dtypes: float64(2), int64(3), object(4)\n",
    "# O DataFrame tem 2 colunas com números decimais (float64 ou ponto flutuante de 64 bits);\n",
    "# 3 colunas com números inteiros (int64 ou número inteiro de 64 bits);\n",
    "# 4 colunas com texto ou outros tipos genéricos (object designa um tipo genérico: normalmente strings, mas também pode conter misturas de tipos).\n",
    "\n",
    "# Alguns comentários:\n",
    "# Alguns cálculos ou gráficos só funcionam com float ou int.\n",
    "# Colunas como \"Sexo\" ou \"Departamento\" devem ser object ou category, e não numéricas.\n",
    "# Se um número for lido como object (ex: \"42\" como texto), podemos ter problemas para calcular a média ou somar — então pode ser necessário converter com pd.to_numeric().\n",
    "\n",
    "dados.describe()    # Gera um resumo estatístico das colunas numéricas (por padrão), mostrando:\n",
    "# Contagem de valores (count)\n",
    "# Média (mean)\n",
    "# Desvio-padrão (std)\n",
    "# Valores mínimo e máximo\n",
    "# Quartis (25% - Q1, 50% - mediana, 75% - Q3)"
   ]
  },
  {
   "cell_type": "code",
   "execution_count": null,
   "id": "aeb09612-b072-41d4-ba79-1074a478d633",
   "metadata": {},
   "outputs": [],
   "source": [
    "# E se quisermos visualizar estatísticas descritivas das variáveis categóricas?\n",
    "\n",
    "dados.describe(include='object')\n",
    "\n",
    "# Este comando mostra um resumo apenas das colunas categóricas, ou seja, aquelas com dtype = object.\n",
    "# Retorna, para cada coluna qualitativa:\n",
    "# count: número de valores não nulos\n",
    "# unique: número de categorias distintas\n",
    "# top: valor mais frequente (moda)\n",
    "# freq: frequência do valor mais frequente"
   ]
  },
  {
   "cell_type": "code",
   "execution_count": null,
   "id": "4189acee-c890-4d08-bbe0-79e88d8a0537",
   "metadata": {},
   "outputs": [],
   "source": [
    "### Outros comandos para a estrutura básica do DataFrame:\n",
    "dados.shape         # (linhas, colunas)"
   ]
  },
  {
   "cell_type": "code",
   "execution_count": null,
   "id": "bc116cb0-cb60-4ef3-9fa1-ba8385ae4186",
   "metadata": {},
   "outputs": [],
   "source": [
    "### Outros comandos para a estrutura básica do DataFrame:\n",
    "dados.columns       # nomes das colunas\n",
    "\n",
    "# Observe que nesta saída aparecerá dtype = 'object'.\n",
    "# Isso não quer dizer que os dados nas colunas são object — apenas que os nomes das colunas são strings!"
   ]
  },
  {
   "cell_type": "code",
   "execution_count": null,
   "id": "97674b84-85ed-4462-8a04-4d7afc83d9ba",
   "metadata": {},
   "outputs": [],
   "source": [
    "### Outros comandos para a estrutura básica do DataFrame:\n",
    "dados.dtypes        # tipos das variáveis"
   ]
  },
  {
   "cell_type": "markdown",
   "id": "863ef7f9",
   "metadata": {},
   "source": [
    "## Estatísticas dos salários anuais - geral e por departamento"
   ]
  },
  {
   "cell_type": "code",
   "execution_count": null,
   "id": "93e3d84f",
   "metadata": {},
   "outputs": [],
   "source": [
    "# Média e desvio-padrão geral\n",
    "media_geral_salario = dados['Salario_Anual'].mean()\n",
    "# dados['Salario_Anual'] : Acessa a coluna chamada Salario_Anual no DataFrame dados.\n",
    "# .mean() : Aplica o método .mean() para calcular a média aritmética dos salários.\n",
    "# media_geral = O resultado é armazenado na variável media_geral.\n",
    "\n",
    "dp_geral_salario = dados['Salario_Anual'].std()\n",
    "# Idem... ao invés da média, estamos agora calculando o desvio-padrão amostral (std)\n",
    "\n",
    "print(f\"Média dos salários anuais: {media_geral_salario:.2f}\")\n",
    "# Imprime a média formatada com duas casas decimais (:.2f)\n",
    "# f\"texto {variavel}\" é uma f-string, usada para incorporar valores dentro do texto\n",
    "\n",
    "print(f\"Desvio-padrão: {dp_geral_salario:.2f}\")\n"
   ]
  },
  {
   "cell_type": "code",
   "execution_count": null,
   "id": "9558bc06",
   "metadata": {},
   "outputs": [],
   "source": [
    "# Estatísticas por departamento\n",
    "resumo_departamentos = dados.groupby('Departamento')['Salario_Anual'].agg(['mean', 'std']).reset_index()\n",
    "# Este trecho é bastante usual no contexto do pandas. O que está acontecendo:\n",
    "# dados.groupby('Departamento'): agrupa o DataFrame por valores únicos na coluna Departamento.\n",
    "# ['Salario_Anual']: aplica o agrupamento somente sobre a coluna Salario_Anual.\n",
    "# .agg(['mean', 'std']): agrega os dados aplicando duas funções: média (mean) e desvio-padrão (std), para cada grupo (departamento).\n",
    "# .reset_index(): transforma o índice do agrupamento de volta em coluna, criando um DataFrame \"normal\".\n",
    "\n",
    "resumo_departamentos.columns = ['Departamento', 'Salario Anual Médio', 'Desvio Padrão']\n",
    "# Aqui, simplesmente estamos renomeando os nomes das colunas do objeto resumo_departamentos. Tente rodar essa célula sem esta instrução e veja a diferença. \n",
    "\n",
    "resumo_departamentos\n",
    "\n",
    "# Extra: rode esta célula sem o sufixo .reset_index() na primeira linha. Consegue perceber alguma diferença?\n",
    "# Vantagens de manter o sufixo .reset_index():\n",
    "# Facilita a manipulação dos dados com índice numérico\n",
    "# Melhora a compatibilidade com outras operações (há funções que esperam que dados estejam em colunas, não no índice)"
   ]
  },
  {
   "cell_type": "markdown",
   "id": "c7b81bd4",
   "metadata": {},
   "source": [
    "## Boxplot dos salários por departamento"
   ]
  },
  {
   "cell_type": "code",
   "execution_count": null,
   "id": "84230745-4ede-47e6-bd20-1eb1695ff716",
   "metadata": {},
   "outputs": [],
   "source": [
    "# plt.figure(figsize=(8, 5))\n",
    "# Opcional. Define o tamanho do gráfico (polegadas), útil para evitar que os elementos fiquem espremidos ou desproporcionais.\n",
    "sns.boxplot(data=dados, y='Salario_Anual') \n",
    "plt.title('Distribuição dos Salários Anuais por Sexo')\n",
    "plt.xlabel('Sexo')\n",
    "plt.ylabel('Salário Anual')\n",
    "# plt.tight_layout()\n",
    "# Opcional. Ajusta automaticamente os espaçamentos internos da figura para que nenhum elemento (eixo, legenda, título) fique sobreposto ou cortado.\n",
    "plt.show()"
   ]
  },
  {
   "cell_type": "markdown",
   "id": "dafb2cef",
   "metadata": {},
   "source": [
    "## Probabilidade de uma mulher ter salário acima da média"
   ]
  },
  {
   "cell_type": "code",
   "execution_count": null,
   "id": "012543c7",
   "metadata": {},
   "outputs": [],
   "source": [
    "total_mulheres = dados[dados['Sexo'] == 'F'].shape[0]\n",
    "\n",
    "# Filtra o DataFrame 'dados' para manter somente as linhas onde o Sexo é feminino ('Sexo' == 'F'), e depois pega o número total dessas linhas.\n",
    "# O sufixo .shape[0] retorna o número de linhas do DataFrame filtrado (nesse caso, o número de mulheres na amostra).\n",
    "# O resultado é armazenado no objeto total_mulheres\n",
    "\n",
    "mulheres_salario_acima_media = dados[(dados['Sexo'] == 'F') & (dados['Salario_Anual'] > media_geral_salario)].shape[0]\n",
    "\n",
    "prop_mulheres_salario_acima_media = mulheres_salario_acima_media / total_mulheres\n",
    "\n",
    "print(f\"Probabilidade de uma mulher ter salário acima da média: {prop_mulheres_salario_acima_media:.3f}\")"
   ]
  },
  {
   "cell_type": "markdown",
   "id": "b054ca28",
   "metadata": {},
   "source": [
    "## Boxplot das notas por departamento"
   ]
  },
  {
   "cell_type": "code",
   "execution_count": null,
   "id": "08422e45",
   "metadata": {},
   "outputs": [],
   "source": [
    "# plt.figure(figsize=(8, 5))\n",
    "sns.boxplot(data=dados, y='Nota')\n",
    "plt.title('Distribuição das Notas')\n",
    "plt.ylabel('Nota')\n",
    "# plt.tight_layout()\n",
    "plt.show()"
   ]
  },
  {
   "cell_type": "code",
   "execution_count": null,
   "id": "1d2d6d24-15d7-46a2-9777-e5e5bfa2bc8f",
   "metadata": {},
   "outputs": [],
   "source": [
    "### Visualizando contagens de categorias de variáveis qualitativas\n",
    "dados['Sexo'].value_counts()\n",
    "\n",
    "# O sufixo .value_counts() serve para contar quantas vezes cada categoria ocorre na variável Sexo, do DataFrame dados."
   ]
  },
  {
   "cell_type": "code",
   "execution_count": null,
   "id": "3de05d6c-695b-41b6-aadc-a7dab911ecbe",
   "metadata": {},
   "outputs": [],
   "source": [
    "# Repetindo a mesma ideia, agora para a variável Departamento:\n",
    "dados['Departamento'].value_counts()"
   ]
  },
  {
   "cell_type": "code",
   "execution_count": null,
   "id": "830df15b-6451-4da6-8a58-8f2e30116818",
   "metadata": {},
   "outputs": [],
   "source": [
    "## E se quisermos montar tabelas?"
   ]
  },
  {
   "cell_type": "code",
   "execution_count": null,
   "id": "0a907af5-aade-43d4-9225-e1bdb1f93287",
   "metadata": {},
   "outputs": [],
   "source": [
    "# Usamos a função pd.crosstab()\n",
    "# Exemplo:\n",
    "\n",
    "pd.crosstab(dados['Departamento'], dados['Sexo'])\n",
    "\n",
    "# A primeira variável é usada nas linhas, e a segunda variável é usada nas colunas. Tente transpor a tabela!"
   ]
  },
  {
   "cell_type": "code",
   "execution_count": null,
   "id": "ed1d98b4-2e6d-4828-bb58-f3e12e939083",
   "metadata": {},
   "outputs": [],
   "source": [
    "### Alguns outros exemplos de gráficos (exploraremos essa área na aula seguinte...):\n",
    "# Definindo o estilo gráfico\n",
    "sns.set(style=\"whitegrid\")\n",
    "\n",
    "# Criar uma figura com 2 subplots (um embaixo do outro)\n",
    "fig, axs = plt.subplots(2, 1, figsize=(8, 12))  # (linhas, colunas, tamanho)\n",
    "\n",
    "# 1. Histograma da Idade\n",
    "sns.histplot(data=dados, x='Idade', ax=axs[0])\n",
    "axs[0].set_title('Distribuição de Idade')\n",
    "\n",
    "# 2. Gráfico de barras da contagem por Sexo\n",
    "sns.countplot(data=dados, x='Sexo', ax=axs[1])\n",
    "axs[1].set_title('Distribuição por Sexo')\n",
    "\n",
    "# Ajusta layout para evitar sobreposição\n",
    "plt.tight_layout()\n",
    "\n",
    "# Exibe todos os gráficos\n",
    "plt.show()\n"
   ]
  },
  {
   "cell_type": "markdown",
   "id": "60eb8870",
   "metadata": {},
   "source": [
    "## Análise Livre\n",
    "Como exercício final, cada grupo deve realizar uma análise própria.\n",
    "\n",
    "Sugestões:\n",
    "- Comparar salários e notas entre departamentos;\n",
    "- Investigar disparidades de gênero dentro de cada departamento.\n",
    "\n",
    "No mínimo o grupo deverá entregar um Jupyter notebook contendo um gráfico box-plot, uma tabela e uma análises com médias e desvios-padrões."
   ]
  }
 ],
 "metadata": {
  "kernelspec": {
   "display_name": "Python [conda env:base] *",
   "language": "python",
   "name": "conda-base-py"
  },
  "language_info": {
   "codemirror_mode": {
    "name": "ipython",
    "version": 3
   },
   "file_extension": ".py",
   "mimetype": "text/x-python",
   "name": "python",
   "nbconvert_exporter": "python",
   "pygments_lexer": "ipython3",
   "version": "3.12.7"
  }
 },
 "nbformat": 4,
 "nbformat_minor": 5
}
