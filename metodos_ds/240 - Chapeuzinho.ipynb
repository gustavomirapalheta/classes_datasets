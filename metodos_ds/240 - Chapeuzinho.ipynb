{
 "cells": [
  {
   "cell_type": "code",
   "execution_count": 8,
   "metadata": {
    "colab": {},
    "colab_type": "code",
    "id": "zu0HTc8TixtC"
   },
   "outputs": [
    {
     "name": "stdin",
     "output_type": "stream",
     "text": [
      "Digite o número inteiro que direcionará a estória:  1\n"
     ]
    },
    {
     "name": "stdout",
     "output_type": "stream",
     "text": [
      "Segura\n"
     ]
    }
   ],
   "source": [
    "N = int(input(\"Digite o número inteiro que direcionará a estória: \"))\n",
    "if N < 0:\n",
    "    print(\"Segura\")                     # não atravessou a floresta\n",
    "else:\n",
    "    if N % 2 == 0:\n",
    "        if N % 3 == 0: \n",
    "            print(\"Enrascada\")          # atravessou, encontrou o lobo, lobo com fome\n",
    "        else:\n",
    "            if N % 5 == 0:              \n",
    "                print(\"Enrascada\")      # atravessou, encontrou o lobo, lobo com gula\n",
    "            else:\n",
    "                print(\"Segura\")         # atravessou, encontrou o lobo, lobo sem fome, lobo sem gula\n",
    "    else: \n",
    "        print(\"Segura\")                 # atravessou, não encontrou o lobo"
   ]
  },
  {
   "cell_type": "code",
   "execution_count": 3,
   "metadata": {
    "colab": {},
    "colab_type": "code",
    "id": "dWjBjN69kfyU"
   },
   "outputs": [
    {
     "name": "stdin",
     "output_type": "stream",
     "text": [
      "Digite o número inteiro que direcionará o estória:  43\n"
     ]
    },
    {
     "name": "stdout",
     "output_type": "stream",
     "text": [
      "Segura\n"
     ]
    }
   ],
   "source": [
    "N = int(input(\"Digite o número inteiro que direcionará a estória: \"))\n",
    "if (N >= 0) and (N % 2 == 0) and ((N % 3 == 0) or (N % 5 == 0)):  # atravessou, encontrou lobo, lobo com fome ou gula\n",
    "    print(\"Enrascada\")                     \n",
    "else:\n",
    "    print(\"Segura\")   "
   ]
  },
  {
   "cell_type": "code",
   "execution_count": 16,
   "metadata": {
    "colab": {},
    "colab_type": "code",
    "id": "y96DKK_Pl7MA"
   },
   "outputs": [
    {
     "name": "stdin",
     "output_type": "stream",
     "text": [
      "Digite o número inteiro que direcionará a estória:  6\n"
     ]
    },
    {
     "name": "stdout",
     "output_type": "stream",
     "text": [
      "Enrascada\n"
     ]
    }
   ],
   "source": [
    "N = int(input(\"Digite o número inteiro que direcionará a estória: \"))\n",
    "\n",
    "atravessou =  N >= 0\n",
    "encontrou  =  N % 2 == 0\n",
    "fome       =  N % 3 == 0\n",
    "gula       =  N % 5 == 0\n",
    "\n",
    "enrascada =  atravessou and encontrou and (fome or gula)\n",
    "if enrascada:\n",
    "    print(\"Enrascada\")\n",
    "else:\n",
    "    print(\"Segura\")"
   ]
  },
  {
   "cell_type": "code",
   "execution_count": null,
   "metadata": {},
   "outputs": [],
   "source": []
  }
 ],
 "metadata": {
  "colab": {
   "collapsed_sections": [],
   "name": "Chapeuzinho.ipynb",
   "provenance": []
  },
  "kernelspec": {
   "display_name": "Python [conda env:base] *",
   "language": "python",
   "name": "conda-base-py"
  },
  "language_info": {
   "codemirror_mode": {
    "name": "ipython",
    "version": 3
   },
   "file_extension": ".py",
   "mimetype": "text/x-python",
   "name": "python",
   "nbconvert_exporter": "python",
   "pygments_lexer": "ipython3",
   "version": "3.12.7"
  }
 },
 "nbformat": 4,
 "nbformat_minor": 4
}
